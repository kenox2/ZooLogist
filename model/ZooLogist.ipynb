{
 "cells": [
  {
   "cell_type": "code",
   "execution_count": 38,
   "id": "cc00b541-1c06-4b87-903d-bea0bfc5af32",
   "metadata": {},
   "outputs": [
    {
     "name": "stdout",
     "output_type": "stream",
     "text": [
      "['antelope', 'badger', 'bat', 'bear', 'bee', 'beetle', 'bison', 'boar', 'butterfly', 'cat', 'caterpillar', 'chimpanzee', 'cockroach', 'cow', 'coyote', 'crab', 'crow', 'deer', 'dog', 'dolphin', 'donkey', 'dragonfly', 'duck', 'eagle', 'elephant', 'flamingo', 'fly', 'fox', 'goat', 'goldfish', 'goose', 'gorilla', 'grasshopper', 'hamster', 'hare', 'hedgehog', 'hippopotamus', 'hornbill', 'horse', 'hummingbird', 'hyena', 'jellyfish', 'kangaroo', 'koala', 'ladybugs', 'leopard', 'lion', 'lizard', 'lobster', 'mosquito', 'moth', 'mouse', 'octopus', 'okapi', 'orangutan', 'otter', 'owl', 'ox', 'oyster', 'panda', 'parrot', 'pelecaniformes', 'penguin', 'pig', 'pigeon', 'porcupine', 'possum', 'raccoon', 'rat', 'reindeer', 'rhinoceros', 'sandpiper', 'seahorse', 'seal', 'shark', 'sheep', 'snake', 'sparrow', 'squid', 'squirrel', 'starfish', 'swan', 'tiger', 'turkey', 'turtle', 'whale', 'wolf', 'wombat', 'woodpecker', 'zebra']\n"
     ]
    }
   ],
   "source": [
    "import os\n",
    "\n",
    "def get_directory_names(path):\n",
    "    directory_names = []\n",
    "    for entry in os.listdir(path):\n",
    "        if os.path.isdir(os.path.join(path, entry)):\n",
    "            directory_names.append(entry)\n",
    "    return directory_names\n",
    "\n",
    "# Example usage:\n",
    "path_to_search = 'Zoologist/animals/test'\n",
    "directory_names_list = get_directory_names(path_to_search)\n",
    "print(directory_names_list)"
   ]
  },
  {
   "cell_type": "code",
   "execution_count": 4,
   "id": "9cdd0f15-9a41-4cfb-818f-27e401db6004",
   "metadata": {},
   "outputs": [],
   "source": [
    "from PIL import Image"
   ]
  },
  {
   "cell_type": "code",
   "execution_count": 20,
   "id": "652d3e8f-f0e8-4d39-b141-6b5795c6f80b",
   "metadata": {},
   "outputs": [
    {
     "data": {
      "text/plain": [
       "<All keys matched successfully>"
      ]
     },
     "execution_count": 20,
     "metadata": {},
     "output_type": "execute_result"
    }
   ],
   "source": [
    "model.load_state_dict(torch.load(\"C:/Users/Acer/Zoologist/modelZooBetter.pt\"))"
   ]
  },
  {
   "cell_type": "code",
   "execution_count": 75,
   "id": "ecc00d76-08ec-4342-96e8-d66fc689b959",
   "metadata": {},
   "outputs": [],
   "source": [
    "def make_pred(model, path):\n",
    "    \"\"\"\n",
    "    Making prediction on image given by path of type string.\n",
    "    Image is first transformed then fed into model.\n",
    "    Function is returning String containing highest prob prediction.\n",
    "    \"\"\"\n",
    "\n",
    "\n",
    "    #list witha all animals\n",
    "\n",
    "    animal_names = ['Antelope', 'Badger', 'Bat', 'Bear', 'Bee', 'Beetle', 'Bison', 'Boar', 'Butterfly', 'Cat',\n",
    "                    'Caterpillar', 'Chimpanzee', 'Cockroach', 'Cow', 'Coyote', 'Crab', 'Crow', 'Deer', 'Dog',\n",
    "                    'Dolphin', 'Donkey', 'Dragonfly', 'Duck', 'Eagle', 'Elephant', 'Flamingo', 'Fly', 'Fox', \n",
    "                    'Goat', 'Goldfish', 'Goose', 'Gorilla', 'Grasshopper', 'Hamster', 'Hare', 'Hedgehog', \n",
    "                    'Hippopotamus', 'Hornbill', 'Horse', 'Hummingbird', 'Hyena', 'Jellyfish', 'Kangaroo', \n",
    "                    'Koala', 'Ladybugs', 'Leopard', 'Lion', 'Lizard', 'Lobster', 'Mosquito', 'Moth', 'Mouse',\n",
    "                    'Octopus', 'Okapi', 'Orangutan', 'Otter', 'Owl', 'Ox', 'Oyster', 'Panda', 'Parrot',\n",
    "                    'Pelecaniformes', 'Penguin', 'Pig', 'Pigeon', 'Porcupine', 'Possum', 'Raccoon', 'Rat', \n",
    "                    'Reindeer', 'Rhinoceros', 'Sandpiper', 'Seahorse', 'Seal', 'Shark',\n",
    "                    'Sheep', 'Snake', 'Sparrow', 'Squid', 'Squirrel', 'Starfish', 'Swan', 'Tiger', 'Turkey', 'Turtle', 'Whale', 'Wolf', 'Wombat', 'Woodpecker', 'Zebra']\n",
    "\n",
    "    \n",
    "    image = Image.open(path)\n",
    "    transforms = torchvision.models.EfficientNet_B1_Weights.DEFAULT.transforms()\n",
    "    image_transformed = transforms(image)\n",
    "    image = torch.unsqueeze(image_transformed, 0)\n",
    "    print(image.size())\n",
    "    model.eval()\n",
    "    with torch.inference_mode():\n",
    "        prediction = model(image)      \n",
    "        prediction = prediction.softmax(dim=1)\n",
    "    print(animal_names[prediction.argmax(dim=1)])\n",
    "    ind = prediction.argmax(dim=1)\n",
    "\n",
    "\n",
    "    print(prediction[0, prediction.argmax(dim=1)])\n",
    "    if prediction[0, prediction.argmax(dim=1)] > 0.20:\n",
    "        return animal_names[prediction.argmax(dim=1)]\n",
    "    else: return \"There is no such animal in this database\"\n",
    "    \n"
   ]
  },
  {
   "cell_type": "code",
   "execution_count": 77,
   "id": "a4f142c0-daba-4940-8808-78866b0fbd54",
   "metadata": {},
   "outputs": [
    {
     "data": {
      "text/plain": [
       "90"
      ]
     },
     "execution_count": 77,
     "metadata": {},
     "output_type": "execute_result"
    }
   ],
   "source": [
    " animal_names = ['Antelope', 'Badger', 'Bat', 'Bear', 'Bee', 'Beetle', 'Bison', 'Boar', 'Butterfly', 'Cat',\n",
    "                    'Caterpillar', 'Chimpanzee', 'Cockroach', 'Cow', 'Coyote', 'Crab', 'Crow', 'Deer', 'Dog',\n",
    "                    'Dolphin', 'Donkey', 'Dragonfly', 'Duck', 'Eagle', 'Elephant', 'Flamingo', 'Fly', 'Fox', \n",
    "                    'Goat', 'Goldfish', 'Goose', 'Gorilla', 'Grasshopper', 'Hamster', 'Hare', 'Hedgehog', \n",
    "                    'Hippopotamus', 'Hornbill', 'Horse', 'Hummingbird', 'Hyena', 'Jellyfish', 'Kangaroo', \n",
    "                    'Koala', 'Ladybugs', 'Leopard', 'Lion', 'Lizard', 'Lobster', 'Mosquito', 'Moth', 'Mouse',\n",
    "                    'Octopus', 'Okapi', 'Orangutan', 'Otter', 'Owl', 'Ox', 'Oyster', 'Panda', 'Parrot',\n",
    "                    'Pelecaniformes', 'Penguin', 'Pig', 'Pigeon', 'Porcupine', 'Possum', 'Raccoon', 'Rat', \n",
    "                    'Reindeer', 'Rhinoceros', 'Sandpiper', 'Seahorse', 'Seal', 'Shark',\n",
    "                    'Sheep', 'Snake', 'Sparrow', 'Squid', 'Squirrel', 'Starfish', 'Swan', 'Tiger', 'Turkey', 'Turtle', 'Whale', 'Wolf', 'Wombat', 'Woodpecker', 'Zebra']\n",
    "len(animal_names)"
   ]
  },
  {
   "cell_type": "code",
   "execution_count": null,
   "id": "248590c0-c3b2-4c19-873a-f3a7e4b524f6",
   "metadata": {},
   "outputs": [],
   "source": []
  },
  {
   "cell_type": "code",
   "execution_count": 7,
   "id": "38c8a80b-fe27-4f1c-87f3-c888ff6aed5b",
   "metadata": {},
   "outputs": [],
   "source": [
    "import torch"
   ]
  },
  {
   "cell_type": "code",
   "execution_count": 8,
   "id": "2bfdf402-d6a4-4037-85af-1987220ed736",
   "metadata": {},
   "outputs": [],
   "source": [
    "import torchvision"
   ]
  },
  {
   "cell_type": "code",
   "execution_count": 3,
   "id": "bb97b58c-4f5b-4ed9-a0ad-a0a7e9472686",
   "metadata": {},
   "outputs": [
    {
     "data": {
      "text/plain": [
       "'0.17.1+cpu'"
      ]
     },
     "execution_count": 3,
     "metadata": {},
     "output_type": "execute_result"
    }
   ],
   "source": [
    "torchvision.__version__"
   ]
  },
  {
   "cell_type": "code",
   "execution_count": 9,
   "id": "ac88e8bc-b1f9-47f1-9835-805327f61b8e",
   "metadata": {},
   "outputs": [
    {
     "data": {
      "text/plain": [
       "'2.2.1+cpu'"
      ]
     },
     "execution_count": 9,
     "metadata": {},
     "output_type": "execute_result"
    }
   ],
   "source": [
    "torch.__version__"
   ]
  },
  {
   "cell_type": "code",
   "execution_count": 17,
   "id": "2df93e4c-76c1-488b-beaa-62313a3e605e",
   "metadata": {},
   "outputs": [
    {
     "name": "stdout",
     "output_type": "stream",
     "text": [
      "Found existing installation: jedi 0.19.1\n",
      "Uninstalling jedi-0.19.1:\n",
      "  Successfully uninstalled jedi-0.19.1\n"
     ]
    }
   ],
   "source": []
  },
  {
   "cell_type": "code",
   "execution_count": 9,
   "id": "9a52407a-b13f-419d-a963-7153435f2322",
   "metadata": {},
   "outputs": [],
   "source": [
    "device = \"cuda\" if torch.cuda.is_available() else \"cpu\""
   ]
  },
  {
   "cell_type": "code",
   "execution_count": 6,
   "id": "7d69c16b-d34f-42f6-86be-9940cbff6842",
   "metadata": {},
   "outputs": [
    {
     "data": {
      "text/plain": [
       "'cpu'"
      ]
     },
     "execution_count": 6,
     "metadata": {},
     "output_type": "execute_result"
    }
   ],
   "source": [
    "device"
   ]
  },
  {
   "cell_type": "code",
   "execution_count": 10,
   "id": "f2d7a76c-f730-487a-be5e-849d8baf077d",
   "metadata": {},
   "outputs": [],
   "source": [
    "weights = torchvision.models.EfficientNet_B1_Weights.DEFAULT\n",
    "transforms = weights.transforms()\n",
    "model = torchvision.models.efficientnet_b1(weights=weights)\n"
   ]
  },
  {
   "cell_type": "code",
   "execution_count": 11,
   "id": "309ab3ba-105e-459b-a483-a19d619b8a40",
   "metadata": {},
   "outputs": [],
   "source": [
    "train_dataset = torchvision.datasets.ImageFolder(root = \"C:/Users/Acer/Zoologist/animals/train\", transform = transforms)\n",
    "test_dataset = torchvision.datasets.ImageFolder(root = \"C:/Users/Acer/Zoologist/animals/test\", transform = transforms)"
   ]
  },
  {
   "cell_type": "code",
   "execution_count": 12,
   "id": "68392f63-ffa1-4953-8b58-ef69428c7a39",
   "metadata": {},
   "outputs": [
    {
     "data": {
      "text/plain": [
       "(Dataset ImageFolder\n",
       "     Number of datapoints: 4152\n",
       "     Root location: C:/Users/Acer/Zoologist/animals/train\n",
       "     StandardTransform\n",
       " Transform: ImageClassification(\n",
       "                crop_size=[240]\n",
       "                resize_size=[255]\n",
       "                mean=[0.485, 0.456, 0.406]\n",
       "                std=[0.229, 0.224, 0.225]\n",
       "                interpolation=InterpolationMode.BILINEAR\n",
       "            ),\n",
       " Dataset ImageFolder\n",
       "     Number of datapoints: 1248\n",
       "     Root location: C:/Users/Acer/Zoologist/animals/test\n",
       "     StandardTransform\n",
       " Transform: ImageClassification(\n",
       "                crop_size=[240]\n",
       "                resize_size=[255]\n",
       "                mean=[0.485, 0.456, 0.406]\n",
       "                std=[0.229, 0.224, 0.225]\n",
       "                interpolation=InterpolationMode.BILINEAR\n",
       "            ))"
      ]
     },
     "execution_count": 12,
     "metadata": {},
     "output_type": "execute_result"
    }
   ],
   "source": [
    "train_dataset, test_dataset"
   ]
  },
  {
   "cell_type": "code",
   "execution_count": 13,
   "id": "4f8ccc10-f649-4368-85ea-4fe249368950",
   "metadata": {},
   "outputs": [],
   "source": [
    "import os"
   ]
  },
  {
   "cell_type": "code",
   "execution_count": 14,
   "id": "a6fef390-5431-4869-b918-f0168de0940b",
   "metadata": {},
   "outputs": [],
   "source": [
    "cpu_count = os.cpu_count() or 1\n",
    "train_dataloader = torch.utils.data.DataLoader(\n",
    "    dataset = train_dataset,\n",
    "    batch_size = 48,\n",
    "    shuffle = True,\n",
    "    num_workers = cpu_count,\n",
    "    pin_memory=True\n",
    ")\n",
    "\n",
    "test_dataloader = torch.utils.data.DataLoader(\n",
    "    dataset = test_dataset,\n",
    "    batch_size = 32,\n",
    "    shuffle = False,\n",
    "    num_workers = cpu_count,\n",
    "    pin_memory=True,\n",
    ")"
   ]
  },
  {
   "cell_type": "code",
   "execution_count": 15,
   "id": "333cda63-5f30-42df-ab6e-77590b468463",
   "metadata": {},
   "outputs": [
    {
     "data": {
      "text/plain": [
       "(<torch.utils.data.dataloader.DataLoader at 0x1a9424dd400>,\n",
       " <torch.utils.data.dataloader.DataLoader at 0x1a9410b3c20>)"
      ]
     },
     "execution_count": 15,
     "metadata": {},
     "output_type": "execute_result"
    }
   ],
   "source": [
    "train_dataloader, test_dataloader"
   ]
  },
  {
   "cell_type": "code",
   "execution_count": null,
   "id": "58476eea-80f2-4957-9911-e083d8eab7a8",
   "metadata": {},
   "outputs": [],
   "source": []
  },
  {
   "cell_type": "code",
   "execution_count": 16,
   "id": "4dba46be-a670-4e39-8bde-40d86d81ee03",
   "metadata": {},
   "outputs": [],
   "source": [
    "for param in model.features.parameters():\n",
    "  param.requires_grad = False\n"
   ]
  },
  {
   "cell_type": "code",
   "execution_count": 17,
   "id": "4cea2dac-9d3a-4004-af51-9ab0aef7ce38",
   "metadata": {},
   "outputs": [],
   "source": [
    "torch.manual_seed(42)\n",
    "torch.cuda.manual_seed(42)\n",
    "\n",
    "output_shape = 90\n",
    "\n",
    "model.classifier = torch.nn.Sequential(\n",
    "    torch.nn.Dropout(p=0.2, inplace=True),\n",
    "    torch.nn.Linear(in_features=1280, out_features=output_shape, bias = True).to(device)\n",
    ")"
   ]
  },
  {
   "cell_type": "code",
   "execution_count": 15,
   "id": "40c2e091-f74f-4a56-a51f-60881e704448",
   "metadata": {},
   "outputs": [
    {
     "name": "stdout",
     "output_type": "stream",
     "text": [
      "Requirement already satisfied: torchinfo in c:\\users\\acer\\appdata\\local\\programs\\python\\python312\\lib\\site-packages (1.8.0)\n"
     ]
    }
   ],
   "source": [
    "!pip install torchinfo"
   ]
  },
  {
   "cell_type": "code",
   "execution_count": 18,
   "id": "cd545e28-1d63-45cf-8638-5c14b30fee4c",
   "metadata": {},
   "outputs": [],
   "source": [
    "from torchinfo import summary"
   ]
  },
  {
   "cell_type": "code",
   "execution_count": 17,
   "id": "17e56fc1-bd83-4de3-bad1-581947187ea8",
   "metadata": {},
   "outputs": [
    {
     "data": {
      "text/plain": [
       "============================================================================================================================================\n",
       "Layer (type (var_name))                                      Input Shape          Output Shape         Param #              Trainable\n",
       "============================================================================================================================================\n",
       "EfficientNet (EfficientNet)                                  [32, 3, 256, 240]    [32, 90]             --                   Partial\n",
       "├─Sequential (features)                                      [32, 3, 256, 240]    [32, 1280, 8, 8]     --                   False\n",
       "│    └─Conv2dNormActivation (0)                              [32, 3, 256, 240]    [32, 32, 128, 120]   --                   False\n",
       "│    │    └─Conv2d (0)                                       [32, 3, 256, 240]    [32, 32, 128, 120]   (864)                False\n",
       "│    │    └─BatchNorm2d (1)                                  [32, 32, 128, 120]   [32, 32, 128, 120]   (64)                 False\n",
       "│    │    └─SiLU (2)                                         [32, 32, 128, 120]   [32, 32, 128, 120]   --                   --\n",
       "│    └─Sequential (1)                                        [32, 32, 128, 120]   [32, 16, 128, 120]   --                   False\n",
       "│    │    └─MBConv (0)                                       [32, 32, 128, 120]   [32, 16, 128, 120]   (1,448)              False\n",
       "│    │    └─MBConv (1)                                       [32, 16, 128, 120]   [32, 16, 128, 120]   (612)                False\n",
       "│    └─Sequential (2)                                        [32, 16, 128, 120]   [32, 24, 64, 60]     --                   False\n",
       "│    │    └─MBConv (0)                                       [32, 16, 128, 120]   [32, 24, 64, 60]     (6,004)              False\n",
       "│    │    └─MBConv (1)                                       [32, 24, 64, 60]     [32, 24, 64, 60]     (10,710)             False\n",
       "│    │    └─MBConv (2)                                       [32, 24, 64, 60]     [32, 24, 64, 60]     (10,710)             False\n",
       "│    └─Sequential (3)                                        [32, 24, 64, 60]     [32, 40, 32, 30]     --                   False\n",
       "│    │    └─MBConv (0)                                       [32, 24, 64, 60]     [32, 40, 32, 30]     (15,350)             False\n",
       "│    │    └─MBConv (1)                                       [32, 40, 32, 30]     [32, 40, 32, 30]     (31,290)             False\n",
       "│    │    └─MBConv (2)                                       [32, 40, 32, 30]     [32, 40, 32, 30]     (31,290)             False\n",
       "│    └─Sequential (4)                                        [32, 40, 32, 30]     [32, 80, 16, 15]     --                   False\n",
       "│    │    └─MBConv (0)                                       [32, 40, 32, 30]     [32, 80, 16, 15]     (37,130)             False\n",
       "│    │    └─MBConv (1)                                       [32, 80, 16, 15]     [32, 80, 16, 15]     (102,900)            False\n",
       "│    │    └─MBConv (2)                                       [32, 80, 16, 15]     [32, 80, 16, 15]     (102,900)            False\n",
       "│    │    └─MBConv (3)                                       [32, 80, 16, 15]     [32, 80, 16, 15]     (102,900)            False\n",
       "│    └─Sequential (5)                                        [32, 80, 16, 15]     [32, 112, 16, 15]    --                   False\n",
       "│    │    └─MBConv (0)                                       [32, 80, 16, 15]     [32, 112, 16, 15]    (126,004)            False\n",
       "│    │    └─MBConv (1)                                       [32, 112, 16, 15]    [32, 112, 16, 15]    (208,572)            False\n",
       "│    │    └─MBConv (2)                                       [32, 112, 16, 15]    [32, 112, 16, 15]    (208,572)            False\n",
       "│    │    └─MBConv (3)                                       [32, 112, 16, 15]    [32, 112, 16, 15]    (208,572)            False\n",
       "│    └─Sequential (6)                                        [32, 112, 16, 15]    [32, 192, 8, 8]      --                   False\n",
       "│    │    └─MBConv (0)                                       [32, 112, 16, 15]    [32, 192, 8, 8]      (262,492)            False\n",
       "│    │    └─MBConv (1)                                       [32, 192, 8, 8]      [32, 192, 8, 8]      (587,952)            False\n",
       "│    │    └─MBConv (2)                                       [32, 192, 8, 8]      [32, 192, 8, 8]      (587,952)            False\n",
       "│    │    └─MBConv (3)                                       [32, 192, 8, 8]      [32, 192, 8, 8]      (587,952)            False\n",
       "│    │    └─MBConv (4)                                       [32, 192, 8, 8]      [32, 192, 8, 8]      (587,952)            False\n",
       "│    └─Sequential (7)                                        [32, 192, 8, 8]      [32, 320, 8, 8]      --                   False\n",
       "│    │    └─MBConv (0)                                       [32, 192, 8, 8]      [32, 320, 8, 8]      (717,232)            False\n",
       "│    │    └─MBConv (1)                                       [32, 320, 8, 8]      [32, 320, 8, 8]      (1,563,600)          False\n",
       "│    └─Conv2dNormActivation (8)                              [32, 320, 8, 8]      [32, 1280, 8, 8]     --                   False\n",
       "│    │    └─Conv2d (0)                                       [32, 320, 8, 8]      [32, 1280, 8, 8]     (409,600)            False\n",
       "│    │    └─BatchNorm2d (1)                                  [32, 1280, 8, 8]     [32, 1280, 8, 8]     (2,560)              False\n",
       "│    │    └─SiLU (2)                                         [32, 1280, 8, 8]     [32, 1280, 8, 8]     --                   --\n",
       "├─AdaptiveAvgPool2d (avgpool)                                [32, 1280, 8, 8]     [32, 1280, 1, 1]     --                   --\n",
       "├─Sequential (classifier)                                    [32, 1280]           [32, 90]             --                   True\n",
       "│    └─Dropout (0)                                           [32, 1280]           [32, 1280]           --                   --\n",
       "│    └─Linear (1)                                            [32, 1280]           [32, 90]             115,290              True\n",
       "============================================================================================================================================\n",
       "Total params: 6,628,474\n",
       "Trainable params: 115,290\n",
       "Non-trainable params: 6,513,184\n",
       "Total mult-adds (Units.GIGABYTES): 22.82\n",
       "============================================================================================================================================\n",
       "Input size (MB): 23.59\n",
       "Forward/backward pass size (MB): 5898.35\n",
       "Params size (MB): 26.51\n",
       "Estimated Total Size (MB): 5948.46\n",
       "============================================================================================================================================"
      ]
     },
     "execution_count": 17,
     "metadata": {},
     "output_type": "execute_result"
    }
   ],
   "source": [
    "summary(model=model,\n",
    "        input_size = (32, 3, 256, 240),\n",
    "        col_names=[\"input_size\", \"output_size\", \"num_params\", \"trainable\"],\n",
    "        col_width=20,\n",
    "        row_settings=[\"var_names\"] )"
   ]
  },
  {
   "cell_type": "code",
   "execution_count": 20,
   "id": "494caf56-f66b-49a9-9660-a0c04a34b3ee",
   "metadata": {},
   "outputs": [
    {
     "name": "stdout",
     "output_type": "stream",
     "text": [
      "Collecting tqdm\n",
      "  Using cached tqdm-4.66.2-py3-none-any.whl.metadata (57 kB)\n",
      "Requirement already satisfied: colorama in c:\\users\\acer\\appdata\\local\\programs\\python\\python312\\lib\\site-packages (from tqdm) (0.4.6)\n",
      "Using cached tqdm-4.66.2-py3-none-any.whl (78 kB)\n",
      "Installing collected packages: tqdm\n",
      "Successfully installed tqdm-4.66.2\n"
     ]
    }
   ],
   "source": [
    "!pip install tqdm"
   ]
  },
  {
   "cell_type": "code",
   "execution_count": 18,
   "id": "df247862-d543-49c5-84db-5d7266271300",
   "metadata": {},
   "outputs": [],
   "source": [
    "from tqdm import tqdm"
   ]
  },
  {
   "cell_type": "code",
   "execution_count": 19,
   "id": "099acecd-d615-42bb-b29d-c8075d443ecb",
   "metadata": {},
   "outputs": [],
   "source": [
    "loss_fn = torch.nn.CrossEntropyLoss()\n",
    "optimizer = torch.optim.SGD(model.parameters(), lr=0.01)"
   ]
  },
  {
   "cell_type": "code",
   "execution_count": 20,
   "id": "3ac743e0-feb7-4194-b962-fc18499bebfa",
   "metadata": {},
   "outputs": [],
   "source": [
    "train_loss_list, train_acc_list = [], []\n",
    "test_loss_list , test_acc_list = [], []"
   ]
  },
  {
   "cell_type": "code",
   "execution_count": 21,
   "id": "0247f5d7-2e47-4a3f-ad07-c358760568e3",
   "metadata": {},
   "outputs": [],
   "source": [
    "state_dic = model_state_dicts"
   ]
  },
  {
   "cell_type": "code",
   "execution_count": 22,
   "id": "0d89c823-b249-458e-8c02-8d73b6163690",
   "metadata": {},
   "outputs": [
    {
     "data": {
      "text/plain": [
       "<All keys matched successfully>"
      ]
     },
     "execution_count": 22,
     "metadata": {},
     "output_type": "execute_result"
    }
   ],
   "source": [
    "model.load_state_dict(torch.load(\"C:/Users/Acer/Zoologist/modelZoo.pt\"))"
   ]
  },
  {
   "cell_type": "code",
   "execution_count": 23,
   "id": "ce48b38d-be5a-49cd-b101-27aa94b8a219",
   "metadata": {},
   "outputs": [],
   "source": [
    "model_state_dicts = {}"
   ]
  },
  {
   "cell_type": "code",
   "execution_count": 24,
   "id": "2bbf4002-0dfa-47db-b54b-7cf6beaa1272",
   "metadata": {},
   "outputs": [],
   "source": [
    "def save_model_state(epoch, model):\n",
    "    \"\"\"\n",
    "    Saving current weights of model\n",
    "    \"\"\"\n",
    "    model_state_dicts[epoch] = model.state_dict()\n"
   ]
  },
  {
   "cell_type": "code",
   "execution_count": 27,
   "id": "59e9839c-1ffb-431c-888c-23086b729fe1",
   "metadata": {},
   "outputs": [
    {
     "data": {
      "text/plain": [
       "dict_keys([40, 41, 42, 43, 44, 45, 46, 47, 48, 49, 50, 51, 52, 53, 54, 55, 56, 57, 58, 59, 60, 61, 62, 63, 64, 65, 66, 67, 68, 69, 70, 71, 72, 73, 74, 75, 76, 77, 78, 79, 80, 81, 82, 83, 84, 85, 86, 87, 88, 89])"
      ]
     },
     "execution_count": 27,
     "metadata": {},
     "output_type": "execute_result"
    }
   ],
   "source": [
    "\n",
    "model_state_dicts.keys()"
   ]
  },
  {
   "cell_type": "code",
   "execution_count": 26,
   "id": "209ae307-1f44-410f-b566-f2fb9930f5c4",
   "metadata": {},
   "outputs": [
    {
     "name": "stderr",
     "output_type": "stream",
     "text": [
      "  0%|                                                                                           | 0/50 [00:00<?, ?it/s]"
     ]
    },
    {
     "name": "stdout",
     "output_type": "stream",
     "text": [
      "Train acc: 0.901 | Train loss = 1.216\n"
     ]
    },
    {
     "name": "stderr",
     "output_type": "stream",
     "text": [
      "  2%|█▌                                                                              | 1/50 [09:57<8:07:43, 597.21s/it]"
     ]
    },
    {
     "name": "stdout",
     "output_type": "stream",
     "text": [
      "Test acc: 0.874 | Test loss = 1.329\n",
      "Train acc: 0.908 | Train loss = 1.210\n"
     ]
    },
    {
     "name": "stderr",
     "output_type": "stream",
     "text": [
      "  4%|███▏                                                                            | 2/50 [19:46<7:54:14, 592.81s/it]"
     ]
    },
    {
     "name": "stdout",
     "output_type": "stream",
     "text": [
      "Test acc: 0.877 | Test loss = 1.334\n",
      "Train acc: 0.909 | Train loss = 1.191\n"
     ]
    },
    {
     "name": "stderr",
     "output_type": "stream",
     "text": [
      "  6%|████▊                                                                           | 3/50 [29:37<7:43:38, 591.88s/it]"
     ]
    },
    {
     "name": "stdout",
     "output_type": "stream",
     "text": [
      "Test acc: 0.873 | Test loss = 1.307\n",
      "Train acc: 0.906 | Train loss = 1.182\n"
     ]
    },
    {
     "name": "stderr",
     "output_type": "stream",
     "text": [
      "  8%|██████▍                                                                         | 4/50 [39:28<7:33:22, 591.36s/it]"
     ]
    },
    {
     "name": "stdout",
     "output_type": "stream",
     "text": [
      "Test acc: 0.875 | Test loss = 1.282\n",
      "Train acc: 0.908 | Train loss = 1.166\n"
     ]
    },
    {
     "name": "stderr",
     "output_type": "stream",
     "text": [
      " 10%|████████                                                                        | 5/50 [49:18<7:23:18, 591.07s/it]"
     ]
    },
    {
     "name": "stdout",
     "output_type": "stream",
     "text": [
      "Test acc: 0.874 | Test loss = 1.294\n",
      "Train acc: 0.905 | Train loss = 1.156\n"
     ]
    },
    {
     "name": "stderr",
     "output_type": "stream",
     "text": [
      " 12%|█████████▌                                                                      | 6/50 [59:10<7:13:38, 591.33s/it]"
     ]
    },
    {
     "name": "stdout",
     "output_type": "stream",
     "text": [
      "Test acc: 0.881 | Test loss = 1.291\n",
      "Train acc: 0.910 | Train loss = 1.139\n"
     ]
    },
    {
     "name": "stderr",
     "output_type": "stream",
     "text": [
      " 14%|██████████▉                                                                   | 7/50 [1:08:59<7:03:17, 590.63s/it]"
     ]
    },
    {
     "name": "stdout",
     "output_type": "stream",
     "text": [
      "Test acc: 0.877 | Test loss = 1.261\n",
      "Train acc: 0.914 | Train loss = 1.120\n"
     ]
    },
    {
     "name": "stderr",
     "output_type": "stream",
     "text": [
      " 16%|████████████▍                                                                 | 8/50 [1:18:50<6:53:21, 590.50s/it]"
     ]
    },
    {
     "name": "stdout",
     "output_type": "stream",
     "text": [
      "Test acc: 0.877 | Test loss = 1.227\n",
      "Train acc: 0.909 | Train loss = 1.115\n"
     ]
    },
    {
     "name": "stderr",
     "output_type": "stream",
     "text": [
      " 18%|██████████████                                                                | 9/50 [1:28:39<6:43:11, 590.04s/it]"
     ]
    },
    {
     "name": "stdout",
     "output_type": "stream",
     "text": [
      "Test acc: 0.876 | Test loss = 1.210\n",
      "Train acc: 0.915 | Train loss = 1.096\n"
     ]
    },
    {
     "name": "stderr",
     "output_type": "stream",
     "text": [
      " 20%|███████████████▍                                                             | 10/50 [1:38:30<6:33:42, 590.56s/it]"
     ]
    },
    {
     "name": "stdout",
     "output_type": "stream",
     "text": [
      "Test acc: 0.874 | Test loss = 1.216\n",
      "Train acc: 0.907 | Train loss = 1.097\n"
     ]
    },
    {
     "name": "stderr",
     "output_type": "stream",
     "text": [
      " 22%|████████████████▉                                                            | 11/50 [1:48:21<6:23:55, 590.65s/it]"
     ]
    },
    {
     "name": "stdout",
     "output_type": "stream",
     "text": [
      "Test acc: 0.879 | Test loss = 1.198\n",
      "Train acc: 0.913 | Train loss = 1.072\n"
     ]
    },
    {
     "name": "stderr",
     "output_type": "stream",
     "text": [
      " 24%|██████████████████▍                                                          | 12/50 [1:58:12<6:14:10, 590.80s/it]"
     ]
    },
    {
     "name": "stdout",
     "output_type": "stream",
     "text": [
      "Test acc: 0.880 | Test loss = 1.191\n",
      "Train acc: 0.915 | Train loss = 1.070\n"
     ]
    },
    {
     "name": "stderr",
     "output_type": "stream",
     "text": [
      " 26%|████████████████████                                                         | 13/50 [2:08:06<6:04:46, 591.53s/it]"
     ]
    },
    {
     "name": "stdout",
     "output_type": "stream",
     "text": [
      "Test acc: 0.878 | Test loss = 1.184\n",
      "Train acc: 0.911 | Train loss = 1.069\n"
     ]
    },
    {
     "name": "stderr",
     "output_type": "stream",
     "text": [
      " 28%|█████████████████████▌                                                       | 14/50 [2:17:55<5:54:35, 591.00s/it]"
     ]
    },
    {
     "name": "stdout",
     "output_type": "stream",
     "text": [
      "Test acc: 0.885 | Test loss = 1.175\n",
      "Train acc: 0.908 | Train loss = 1.044\n"
     ]
    },
    {
     "name": "stderr",
     "output_type": "stream",
     "text": [
      " 30%|███████████████████████                                                      | 15/50 [2:27:47<5:44:51, 591.20s/it]"
     ]
    },
    {
     "name": "stdout",
     "output_type": "stream",
     "text": [
      "Test acc: 0.883 | Test loss = 1.152\n",
      "Train acc: 0.916 | Train loss = 1.039\n"
     ]
    },
    {
     "name": "stderr",
     "output_type": "stream",
     "text": [
      " 32%|████████████████████████▋                                                    | 16/50 [2:37:39<5:35:10, 591.48s/it]"
     ]
    },
    {
     "name": "stdout",
     "output_type": "stream",
     "text": [
      "Test acc: 0.880 | Test loss = 1.150\n",
      "Train acc: 0.912 | Train loss = 1.022\n"
     ]
    },
    {
     "name": "stderr",
     "output_type": "stream",
     "text": [
      " 34%|██████████████████████████▏                                                  | 17/50 [2:47:31<5:25:18, 591.48s/it]"
     ]
    },
    {
     "name": "stdout",
     "output_type": "stream",
     "text": [
      "Test acc: 0.884 | Test loss = 1.153\n",
      "Train acc: 0.918 | Train loss = 1.018\n"
     ]
    },
    {
     "name": "stderr",
     "output_type": "stream",
     "text": [
      " 36%|███████████████████████████▋                                                 | 18/50 [2:57:23<5:15:37, 591.78s/it]"
     ]
    },
    {
     "name": "stdout",
     "output_type": "stream",
     "text": [
      "Test acc: 0.881 | Test loss = 1.133\n",
      "Train acc: 0.913 | Train loss = 1.013\n"
     ]
    },
    {
     "name": "stderr",
     "output_type": "stream",
     "text": [
      " 38%|█████████████████████████████▎                                               | 19/50 [3:07:15<5:05:48, 591.89s/it]"
     ]
    },
    {
     "name": "stdout",
     "output_type": "stream",
     "text": [
      "Test acc: 0.883 | Test loss = 1.103\n",
      "Train acc: 0.918 | Train loss = 0.999\n"
     ]
    },
    {
     "name": "stderr",
     "output_type": "stream",
     "text": [
      " 40%|██████████████████████████████▊                                              | 20/50 [3:17:06<4:55:42, 591.43s/it]"
     ]
    },
    {
     "name": "stdout",
     "output_type": "stream",
     "text": [
      "Test acc: 0.875 | Test loss = 1.112\n",
      "Train acc: 0.918 | Train loss = 0.993\n"
     ]
    },
    {
     "name": "stderr",
     "output_type": "stream",
     "text": [
      " 42%|████████████████████████████████▎                                            | 21/50 [3:26:58<4:45:57, 591.63s/it]"
     ]
    },
    {
     "name": "stdout",
     "output_type": "stream",
     "text": [
      "Test acc: 0.878 | Test loss = 1.079\n",
      "Train acc: 0.916 | Train loss = 0.979\n"
     ]
    },
    {
     "name": "stderr",
     "output_type": "stream",
     "text": [
      " 44%|█████████████████████████████████▉                                           | 22/50 [3:36:50<4:36:12, 591.89s/it]"
     ]
    },
    {
     "name": "stdout",
     "output_type": "stream",
     "text": [
      "Test acc: 0.879 | Test loss = 1.096\n",
      "Train acc: 0.915 | Train loss = 0.974\n"
     ]
    },
    {
     "name": "stderr",
     "output_type": "stream",
     "text": [
      " 46%|███████████████████████████████████▍                                         | 23/50 [3:46:43<4:26:25, 592.05s/it]"
     ]
    },
    {
     "name": "stdout",
     "output_type": "stream",
     "text": [
      "Test acc: 0.878 | Test loss = 1.080\n",
      "Train acc: 0.916 | Train loss = 0.961\n"
     ]
    },
    {
     "name": "stderr",
     "output_type": "stream",
     "text": [
      " 48%|████████████████████████████████████▉                                        | 24/50 [3:56:36<4:16:44, 592.46s/it]"
     ]
    },
    {
     "name": "stdout",
     "output_type": "stream",
     "text": [
      "Test acc: 0.882 | Test loss = 1.080\n",
      "Train acc: 0.910 | Train loss = 0.979\n"
     ]
    },
    {
     "name": "stderr",
     "output_type": "stream",
     "text": [
      " 50%|██████████████████████████████████████▌                                      | 25/50 [4:06:29<4:06:54, 592.57s/it]"
     ]
    },
    {
     "name": "stdout",
     "output_type": "stream",
     "text": [
      "Test acc: 0.877 | Test loss = 1.069\n",
      "Train acc: 0.916 | Train loss = 0.948\n"
     ]
    },
    {
     "name": "stderr",
     "output_type": "stream",
     "text": [
      " 52%|████████████████████████████████████████                                     | 26/50 [4:16:21<3:56:58, 592.42s/it]"
     ]
    },
    {
     "name": "stdout",
     "output_type": "stream",
     "text": [
      "Test acc: 0.884 | Test loss = 1.063\n",
      "Train acc: 0.915 | Train loss = 0.928\n"
     ]
    },
    {
     "name": "stderr",
     "output_type": "stream",
     "text": [
      " 54%|█████████████████████████████████████████▌                                   | 27/50 [4:26:10<3:46:44, 591.51s/it]"
     ]
    },
    {
     "name": "stdout",
     "output_type": "stream",
     "text": [
      "Test acc: 0.877 | Test loss = 1.033\n",
      "Train acc: 0.920 | Train loss = 0.934\n"
     ]
    },
    {
     "name": "stderr",
     "output_type": "stream",
     "text": [
      " 56%|███████████████████████████████████████████                                  | 28/50 [4:36:03<3:36:59, 591.79s/it]"
     ]
    },
    {
     "name": "stdout",
     "output_type": "stream",
     "text": [
      "Test acc: 0.882 | Test loss = 1.060\n",
      "Train acc: 0.917 | Train loss = 0.925\n"
     ]
    },
    {
     "name": "stderr",
     "output_type": "stream",
     "text": [
      " 58%|████████████████████████████████████████████▋                                | 29/50 [4:45:57<3:27:20, 592.40s/it]"
     ]
    },
    {
     "name": "stdout",
     "output_type": "stream",
     "text": [
      "Test acc: 0.885 | Test loss = 1.030\n",
      "Train acc: 0.917 | Train loss = 0.919\n"
     ]
    },
    {
     "name": "stderr",
     "output_type": "stream",
     "text": [
      " 60%|██████████████████████████████████████████████▏                              | 30/50 [4:55:50<3:17:32, 592.64s/it]"
     ]
    },
    {
     "name": "stdout",
     "output_type": "stream",
     "text": [
      "Test acc: 0.882 | Test loss = 1.013\n",
      "Train acc: 0.923 | Train loss = 0.899\n"
     ]
    },
    {
     "name": "stderr",
     "output_type": "stream",
     "text": [
      " 62%|███████████████████████████████████████████████▋                             | 31/50 [5:05:42<3:07:40, 592.64s/it]"
     ]
    },
    {
     "name": "stdout",
     "output_type": "stream",
     "text": [
      "Test acc: 0.884 | Test loss = 1.004\n",
      "Train acc: 0.920 | Train loss = 0.902\n"
     ]
    },
    {
     "name": "stderr",
     "output_type": "stream",
     "text": [
      " 64%|█████████████████████████████████████████████████▎                           | 32/50 [5:15:35<2:57:47, 592.64s/it]"
     ]
    },
    {
     "name": "stdout",
     "output_type": "stream",
     "text": [
      "Test acc: 0.887 | Test loss = 0.998\n",
      "Train acc: 0.921 | Train loss = 0.892\n"
     ]
    },
    {
     "name": "stderr",
     "output_type": "stream",
     "text": [
      " 66%|██████████████████████████████████████████████████▊                          | 33/50 [5:25:32<2:48:18, 594.04s/it]"
     ]
    },
    {
     "name": "stdout",
     "output_type": "stream",
     "text": [
      "Test acc: 0.883 | Test loss = 1.001\n",
      "Train acc: 0.917 | Train loss = 0.896\n"
     ]
    },
    {
     "name": "stderr",
     "output_type": "stream",
     "text": [
      " 68%|████████████████████████████████████████████████████▎                        | 34/50 [5:35:28<2:38:32, 594.51s/it]"
     ]
    },
    {
     "name": "stdout",
     "output_type": "stream",
     "text": [
      "Test acc: 0.880 | Test loss = 0.990\n",
      "Train acc: 0.922 | Train loss = 0.878\n"
     ]
    },
    {
     "name": "stderr",
     "output_type": "stream",
     "text": [
      " 70%|█████████████████████████████████████████████████████▉                       | 35/50 [5:45:22<2:28:35, 594.40s/it]"
     ]
    },
    {
     "name": "stdout",
     "output_type": "stream",
     "text": [
      "Test acc: 0.883 | Test loss = 0.972\n",
      "Train acc: 0.919 | Train loss = 0.872\n"
     ]
    },
    {
     "name": "stderr",
     "output_type": "stream",
     "text": [
      " 72%|███████████████████████████████████████████████████████▍                     | 36/50 [5:55:20<2:18:56, 595.48s/it]"
     ]
    },
    {
     "name": "stdout",
     "output_type": "stream",
     "text": [
      "Test acc: 0.881 | Test loss = 0.988\n",
      "Train acc: 0.921 | Train loss = 0.874\n"
     ]
    },
    {
     "name": "stderr",
     "output_type": "stream",
     "text": [
      " 74%|████████████████████████████████████████████████████████▉                    | 37/50 [6:05:19<2:09:15, 596.56s/it]"
     ]
    },
    {
     "name": "stdout",
     "output_type": "stream",
     "text": [
      "Test acc: 0.885 | Test loss = 0.966\n",
      "Train acc: 0.918 | Train loss = 0.856\n"
     ]
    },
    {
     "name": "stderr",
     "output_type": "stream",
     "text": [
      " 76%|██████████████████████████████████████████████████████████▌                  | 38/50 [6:15:14<1:59:13, 596.12s/it]"
     ]
    },
    {
     "name": "stdout",
     "output_type": "stream",
     "text": [
      "Test acc: 0.883 | Test loss = 0.974\n",
      "Train acc: 0.921 | Train loss = 0.851\n"
     ]
    },
    {
     "name": "stderr",
     "output_type": "stream",
     "text": [
      " 78%|████████████████████████████████████████████████████████████                 | 39/50 [6:25:10<1:49:14, 595.89s/it]"
     ]
    },
    {
     "name": "stdout",
     "output_type": "stream",
     "text": [
      "Test acc: 0.888 | Test loss = 0.965\n",
      "Train acc: 0.925 | Train loss = 0.845\n"
     ]
    },
    {
     "name": "stderr",
     "output_type": "stream",
     "text": [
      " 80%|█████████████████████████████████████████████████████████████▌               | 40/50 [6:35:06<1:39:19, 595.91s/it]"
     ]
    },
    {
     "name": "stdout",
     "output_type": "stream",
     "text": [
      "Test acc: 0.885 | Test loss = 0.949\n",
      "Train acc: 0.921 | Train loss = 0.848\n"
     ]
    },
    {
     "name": "stderr",
     "output_type": "stream",
     "text": [
      " 82%|███████████████████████████████████████████████████████████████▏             | 41/50 [6:45:03<1:29:26, 596.26s/it]"
     ]
    },
    {
     "name": "stdout",
     "output_type": "stream",
     "text": [
      "Test acc: 0.885 | Test loss = 0.922\n",
      "Train acc: 0.921 | Train loss = 0.835\n"
     ]
    },
    {
     "name": "stderr",
     "output_type": "stream",
     "text": [
      " 84%|████████████████████████████████████████████████████████████████▋            | 42/50 [6:55:00<1:19:33, 596.67s/it]"
     ]
    },
    {
     "name": "stdout",
     "output_type": "stream",
     "text": [
      "Test acc: 0.887 | Test loss = 0.951\n",
      "Train acc: 0.924 | Train loss = 0.826\n"
     ]
    },
    {
     "name": "stderr",
     "output_type": "stream",
     "text": [
      " 86%|██████████████████████████████████████████████████████████████████▏          | 43/50 [7:05:03<1:09:50, 598.57s/it]"
     ]
    },
    {
     "name": "stdout",
     "output_type": "stream",
     "text": [
      "Test acc: 0.886 | Test loss = 0.926\n",
      "Train acc: 0.924 | Train loss = 0.820\n"
     ]
    },
    {
     "name": "stderr",
     "output_type": "stream",
     "text": [
      " 88%|█████████████████████████████████████████████████████████████████████▌         | 44/50 [7:14:59<59:46, 597.82s/it]"
     ]
    },
    {
     "name": "stdout",
     "output_type": "stream",
     "text": [
      "Test acc: 0.885 | Test loss = 0.938\n",
      "Train acc: 0.916 | Train loss = 0.826\n"
     ]
    },
    {
     "name": "stderr",
     "output_type": "stream",
     "text": [
      " 90%|███████████████████████████████████████████████████████████████████████        | 45/50 [7:24:55<49:45, 597.03s/it]"
     ]
    },
    {
     "name": "stdout",
     "output_type": "stream",
     "text": [
      "Test acc: 0.886 | Test loss = 0.923\n",
      "Train acc: 0.921 | Train loss = 0.813\n"
     ]
    },
    {
     "name": "stderr",
     "output_type": "stream",
     "text": [
      " 92%|████████████████████████████████████████████████████████████████████████▋      | 46/50 [7:34:49<39:45, 596.32s/it]"
     ]
    },
    {
     "name": "stdout",
     "output_type": "stream",
     "text": [
      "Test acc: 0.888 | Test loss = 0.924\n",
      "Train acc: 0.923 | Train loss = 0.806\n"
     ]
    },
    {
     "name": "stderr",
     "output_type": "stream",
     "text": [
      " 94%|██████████████████████████████████████████████████████████████████████████▎    | 47/50 [7:44:48<29:51, 597.16s/it]"
     ]
    },
    {
     "name": "stdout",
     "output_type": "stream",
     "text": [
      "Test acc: 0.885 | Test loss = 0.904\n",
      "Train acc: 0.923 | Train loss = 0.794\n"
     ]
    },
    {
     "name": "stderr",
     "output_type": "stream",
     "text": [
      " 96%|███████████████████████████████████████████████████████████████████████████▊   | 48/50 [7:54:45<19:54, 597.06s/it]"
     ]
    },
    {
     "name": "stdout",
     "output_type": "stream",
     "text": [
      "Test acc: 0.890 | Test loss = 0.892\n",
      "Train acc: 0.928 | Train loss = 0.786\n"
     ]
    },
    {
     "name": "stderr",
     "output_type": "stream",
     "text": [
      " 98%|█████████████████████████████████████████████████████████████████████████████▍ | 49/50 [8:04:53<10:00, 600.15s/it]"
     ]
    },
    {
     "name": "stdout",
     "output_type": "stream",
     "text": [
      "Test acc: 0.891 | Test loss = 0.902\n",
      "Train acc: 0.924 | Train loss = 0.799\n"
     ]
    },
    {
     "name": "stderr",
     "output_type": "stream",
     "text": [
      "100%|███████████████████████████████████████████████████████████████████████████████| 50/50 [8:15:01<00:00, 594.04s/it]"
     ]
    },
    {
     "name": "stdout",
     "output_type": "stream",
     "text": [
      "Test acc: 0.890 | Test loss = 0.901\n"
     ]
    },
    {
     "name": "stderr",
     "output_type": "stream",
     "text": [
      "\n"
     ]
    }
   ],
   "source": [
    "# Training\n",
    "EPOCHS = 50\n",
    "for epoch in tqdm(range(EPOCHS)):\n",
    "  model.train()\n",
    "  train_loss, train_acc = 0, 0\n",
    "\n",
    "  for batch, (X, y) in enumerate(train_dataloader):\n",
    "    X, y = X.to(device), y.to(device)\n",
    "    y_pred = model(X)\n",
    "\n",
    "    # 2. Calculate and accumulate loss\n",
    "    loss = loss_fn(y_pred, y)\n",
    "    train_loss += loss.item()\n",
    "\n",
    "    #  3. Optimzier zero grad\n",
    "    optimizer.zero_grad()\n",
    "\n",
    "    # 4. loss backawrd\n",
    "    loss.backward()\n",
    "\n",
    "    # 5. optimzier step\n",
    "    optimizer.step()\n",
    "\n",
    "    # accumulate accaracy\n",
    "    y_pred_class = torch.argmax(y_pred, dim=1)\n",
    "    train_acc += (y_pred_class == y).sum().item()/len(y_pred)\n",
    "\n",
    "  train_loss = train_loss / len(train_dataloader)\n",
    "  train_acc = train_acc / len(train_dataloader)\n",
    "  print(f\"Train acc: {train_acc:.3f} | Train loss = {train_loss:.3f}\")\n",
    "\n",
    "  train_acc_list.append(train_acc)\n",
    "  train_loss_list.append(train_loss)  \n",
    "  #test loss accc\n",
    "  test_loss, test_acc = 0, 0\n",
    "    \n",
    "  model.eval()\n",
    "  save_model_state(epoch + 40 , model)  \n",
    "  with torch.inference_mode():\n",
    "    for batch, (X, y) in enumerate(test_dataloader):\n",
    "      X, y = X.to(device), y.to(device)\n",
    "      test_pred = model(X)\n",
    "\n",
    "      # 2. Calculate and accumulate loss\n",
    "      loss = loss_fn(test_pred, y)\n",
    "      test_loss += loss.item()\n",
    "\n",
    "\n",
    "      # accumulate accaracy\n",
    "      test_pred_labels = torch.argmax(test_pred, dim=1)\n",
    "      test_acc += ((test_pred_labels == y).sum().item()/len(test_pred))\n",
    "\n",
    "    test_loss = test_loss / len(test_dataloader)\n",
    "    test_acc = test_acc / len(test_dataloader)\n",
    "    print(f\"Test acc: {test_acc:.3f} | Test loss = {test_loss:.3f}\")\n",
    "    test_acc_list.append(test_acc)\n",
    "    test_loss_list.append(test_loss)  \n",
    "\n",
    "\n",
    "\n"
   ]
  },
  {
   "cell_type": "code",
   "execution_count": 33,
   "id": "deb2a34f-bf8e-4c91-b00c-cbb00b92ad9d",
   "metadata": {},
   "outputs": [
    {
     "data": {
      "text/plain": [
       "87"
      ]
     },
     "execution_count": 33,
     "metadata": {},
     "output_type": "execute_result"
    }
   ],
   "source": [
    "len()"
   ]
  },
  {
   "cell_type": "code",
   "execution_count": 48,
   "id": "2dbe2f68-5ac7-435e-8f09-a93a2618a1d2",
   "metadata": {},
   "outputs": [],
   "source": [
    "img, label = train_dataset[1200]"
   ]
  },
  {
   "cell_type": "code",
   "execution_count": 41,
   "id": "408e26d9-ad0e-47b2-ba2f-8cbbd878aa7f",
   "metadata": {},
   "outputs": [],
   "source": [
    "import csv"
   ]
  },
  {
   "cell_type": "code",
   "execution_count": 39,
   "id": "76c7b768-dd8b-4a5e-936f-82ffeca9a922",
   "metadata": {},
   "outputs": [
    {
     "data": {
      "text/plain": [
       "[0.874198717948718,\n",
       " 0.8766025641025641,\n",
       " 0.8733974358974359,\n",
       " 0.875,\n",
       " 0.874198717948718,\n",
       " 0.8806089743589743,\n",
       " 0.8766025641025641,\n",
       " 0.8774038461538461,\n",
       " 0.875801282051282,\n",
       " 0.874198717948718,\n",
       " 0.8790064102564102,\n",
       " 0.8798076923076923,\n",
       " 0.8782051282051282,\n",
       " 0.8846153846153846,\n",
       " 0.8830128205128205,\n",
       " 0.8798076923076923,\n",
       " 0.8838141025641025,\n",
       " 0.8814102564102564,\n",
       " 0.8830128205128205,\n",
       " 0.875,\n",
       " 0.8782051282051282,\n",
       " 0.8790064102564102,\n",
       " 0.8782051282051282,\n",
       " 0.8822115384615384,\n",
       " 0.8774038461538461,\n",
       " 0.8838141025641025,\n",
       " 0.8774038461538461,\n",
       " 0.8822115384615384,\n",
       " 0.8846153846153846,\n",
       " 0.8822115384615384,\n",
       " 0.8838141025641025,\n",
       " 0.8870192307692307,\n",
       " 0.8830128205128205,\n",
       " 0.8798076923076923,\n",
       " 0.8830128205128205,\n",
       " 0.8806089743589743,\n",
       " 0.8846153846153846,\n",
       " 0.8830128205128205,\n",
       " 0.8878205128205128,\n",
       " 0.8854166666666666,\n",
       " 0.8846153846153846,\n",
       " 0.8870192307692307,\n",
       " 0.8862179487179487,\n",
       " 0.8854166666666666,\n",
       " 0.8862179487179487,\n",
       " 0.8878205128205128,\n",
       " 0.8854166666666666,\n",
       " 0.8902243589743589]"
      ]
     },
     "execution_count": 39,
     "metadata": {},
     "output_type": "execute_result"
    }
   ],
   "source": [
    "test_acc_list[:-2]"
   ]
  },
  {
   "cell_type": "code",
   "execution_count": 45,
   "id": "88789c77-9485-4830-85c6-efd06889dde9",
   "metadata": {},
   "outputs": [],
   "source": [
    "with open(\"C:/Users/Acer/Zoologist/train_acc2.csv\", \"w\", newline='') as f:\n",
    "    writer = csv.writer(f)\n",
    "    writer.writerow(train_acc_list[:-2])"
   ]
  },
  {
   "cell_type": "code",
   "execution_count": 31,
   "id": "72466a5c-4b01-4480-87db-9a3731f341d4",
   "metadata": {},
   "outputs": [],
   "source": [
    "torch.save(model_state_dicts[87],\"C:/Users/Acer/Zoologist/modelZooBetter\")"
   ]
  },
  {
   "cell_type": "code",
   "execution_count": 51,
   "id": "6ee22ab3-5844-4d93-bb92-cd4d371e4443",
   "metadata": {},
   "outputs": [
    {
     "data": {
      "text/plain": [
       "(tensor([[[ 0.7591,  0.7591,  0.7591,  ...,  0.8276,  0.8276,  0.8276],\n",
       "          [ 0.7762,  0.7762,  0.7762,  ...,  0.8276,  0.8104,  0.8104],\n",
       "          [ 0.7762,  0.7762,  0.7762,  ...,  0.8276,  0.8104,  0.8104],\n",
       "          ...,\n",
       "          [ 0.6392,  0.6392,  0.6392,  ...,  0.6392,  0.5364,  0.5364],\n",
       "          [ 0.6734,  0.6392,  0.6392,  ...,  0.7933,  0.8276,  0.8447],\n",
       "          [ 0.6734,  0.6563,  0.6392,  ...,  0.8789,  0.9132,  0.9817]],\n",
       " \n",
       "         [[ 1.2206,  1.2206,  1.2206,  ...,  1.2381,  1.2556,  1.2556],\n",
       "          [ 1.2381,  1.2381,  1.2381,  ...,  1.2381,  1.2381,  1.2381],\n",
       "          [ 1.2381,  1.2381,  1.2381,  ...,  1.2381,  1.2381,  1.2381],\n",
       "          ...,\n",
       "          [ 0.4678,  0.5028,  0.5203,  ..., -0.2325, -0.3725, -0.3725],\n",
       "          [ 0.5028,  0.5028,  0.5203,  ..., -0.1275, -0.1275, -0.1275],\n",
       "          [ 0.4853,  0.5203,  0.5203,  ..., -0.0749, -0.0749, -0.0574]],\n",
       " \n",
       "         [[ 1.8208,  1.8208,  1.8208,  ...,  1.8557,  1.8731,  1.8731],\n",
       "          [ 1.8383,  1.8383,  1.8383,  ...,  1.8557,  1.8557,  1.8557],\n",
       "          [ 1.8383,  1.8383,  1.8383,  ...,  1.8557,  1.8557,  1.8557],\n",
       "          ...,\n",
       "          [-0.3927, -0.3404, -0.3055,  ..., -1.1596, -1.2467, -1.2293],\n",
       "          [-0.3578, -0.3230, -0.3055,  ..., -1.0027, -1.0027, -0.9853],\n",
       "          [-0.3230, -0.2881, -0.2881,  ..., -0.9156, -0.9330, -0.8981]]]),\n",
       " 0)"
      ]
     },
     "execution_count": 51,
     "metadata": {},
     "output_type": "execute_result"
    }
   ],
   "source": [
    "img, label"
   ]
  },
  {
   "cell_type": "code",
   "execution_count": null,
   "id": "a9b573a0-79ac-4629-9223-0301d03182de",
   "metadata": {},
   "outputs": [],
   "source": []
  },
  {
   "cell_type": "code",
   "execution_count": 56,
   "id": "7cce8837-d3de-4626-b1cd-17bf2c7a2093",
   "metadata": {},
   "outputs": [],
   "source": [
    "import matplotlib.pyplot as plt"
   ]
  },
  {
   "cell_type": "code",
   "execution_count": 64,
   "id": "06cb9082-694b-440b-b286-36ddde2fb174",
   "metadata": {},
   "outputs": [
    {
     "name": "stderr",
     "output_type": "stream",
     "text": [
      "Clipping input data to the valid range for imshow with RGB data ([0..1] for floats or [0..255] for integers).\n"
     ]
    },
    {
     "data": {
      "image/png": "[encoded data removed]",
      "text/plain": [
       "<Figure size 640x480 with 1 Axes>"
      ]
     },
     "metadata": {},
     "output_type": "display_data"
    }
   ],
   "source": [
    "plt.imshow(img.permute(1, 2, 0)  )\n",
    "plt.show()"
   ]
  },
  {
   "cell_type": "code",
   "execution_count": 14,
   "id": "d4f0fd1e-2fdb-44bd-9c2a-0919c5812dd4",
   "metadata": {},
   "outputs": [],
   "source": [
    "import csv\n"
   ]
  },
  {
   "cell_type": "code",
   "execution_count": 64,
   "id": "1c293ed7-890a-46c6-ac44-c4cce1b2f4ca",
   "metadata": {},
   "outputs": [],
   "source": [
    "test_loss = []\n",
    "test_acc = []\n",
    "train_loss = []\n",
    "train_acc = []\n"
   ]
  },
  {
   "cell_type": "code",
   "execution_count": 65,
   "id": "5e43a08e-8625-487e-87e9-8bb5f24a3cc9",
   "metadata": {},
   "outputs": [],
   "source": [
    "with open(\"C:/Users/Acer/Zoologist/train_loss.csv\", \"r\") as f:\n",
    "    reader = csv.reader(f)\n",
    "    for row in reader:\n",
    "        train_loss.append(row)"
   ]
  },
  {
   "cell_type": "code",
   "execution_count": 66,
   "id": "729063b2-4a1d-4ec5-a7fc-f4fcd3e08ae5",
   "metadata": {},
   "outputs": [],
   "source": [
    "with open(\"C:/Users/Acer/Zoologist/test_loss.csv\", \"r\") as f:\n",
    "    reader = csv.reader(f)\n",
    "    for row in reader:\n",
    "        test_loss.append(row)"
   ]
  },
  {
   "cell_type": "code",
   "execution_count": 67,
   "id": "a1a4d23a-9b79-4667-847f-de68990169d5",
   "metadata": {},
   "outputs": [],
   "source": [
    "with open(\"C:/Users/Acer/Zoologist/train_acc.csv\", \"r\") as f:\n",
    "    reader = csv.reader(f)\n",
    "    for row in reader:\n",
    "        train_acc.append(row)"
   ]
  },
  {
   "cell_type": "code",
   "execution_count": 68,
   "id": "1cd63861-4021-4113-bafd-2f14b7bebf5c",
   "metadata": {},
   "outputs": [],
   "source": [
    "with open(\"C:/Users/Acer/Zoologist/test_acc.csv\", \"r\") as f:\n",
    "    reader = csv.reader(f)\n",
    "    for row in reader:\n",
    "        test_acc.append(row)"
   ]
  },
  {
   "cell_type": "code",
   "execution_count": 69,
   "id": "451ed874-647f-463d-9a98-a099e732164c",
   "metadata": {},
   "outputs": [],
   "source": [
    "import numpy as np\n",
    "test_loss = np.array(test_loss, dtype = np.float64)\n",
    "test_acc = np.array(test_acc, dtype = np.float64)\n",
    "train_loss = np.array(train_loss, dtype = np.float64)\n",
    "train_acc = np.array(train_acc, dtype = np.float64)"
   ]
  },
  {
   "cell_type": "code",
   "execution_count": 76,
   "id": "c61e79ba-143f-44bd-9dd1-3e08f6c1f660",
   "metadata": {},
   "outputs": [
    {
     "data": {
      "image/png": "[encoded data removed]",
      "text/plain": [
       "<Figure size 640x480 with 1 Axes>"
      ]
     },
     "metadata": {},
     "output_type": "display_data"
    }
   ],
   "source": [
    "import matplotlib.pyplot as plt\n",
    "plt.plot(range(len(test_loss[0])), test_loss[0], label = \"test loss\")\n",
    "plt.plot(range(len(train_loss[0])), train_loss[0], label = 'train loss' )\n",
    "plt.legend()\n",
    "plt.title(\"loss\")\n",
    "plt.show()"
   ]
  },
  {
   "cell_type": "code",
   "execution_count": 77,
   "id": "8bcea431-554a-4d20-9abb-264bf0164ee1",
   "metadata": {},
   "outputs": [
    {
     "data": {
      "image/png": "[encoded data removed]",
      "text/plain": [
       "<Figure size 640x480 with 1 Axes>"
      ]
     },
     "metadata": {},
     "output_type": "display_data"
    }
   ],
   "source": [
    "import matplotlib.pyplot as plt\n",
    "plt.plot(range(len(test_acc[0])), test_acc[0], label = \"test accuracy\")\n",
    "plt.plot(range(len(train_acc[0])), train_acc[0], label = 'train accuracy' )\n",
    "plt.legend()\n",
    "plt.title(\"loss\")\n",
    "plt.show()"
   ]
  }
 ],
 "metadata": {
  "kernelspec": {
   "display_name": "Python 3 (ipykernel)",
   "language": "python",
   "name": "python3"
  },
  "language_info": {
   "codemirror_mode": {
    "name": "ipython",
    "version": 3
   },
   "file_extension": ".py",
   "mimetype": "text/x-python",
   "name": "python",
   "nbconvert_exporter": "python",
   "pygments_lexer": "ipython3",
   "version": "3.12.2"
  }
 },
 "nbformat": 4,
 "nbformat_minor": 5
}
